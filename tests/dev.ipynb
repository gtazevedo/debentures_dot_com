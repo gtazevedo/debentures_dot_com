{
 "cells": [
  {
   "cell_type": "code",
   "execution_count": 112,
   "metadata": {},
   "outputs": [],
   "source": [
    "import requests\n",
    "import io\n",
    "import pandas as pd\n",
    "from bs4 import BeautifulSoup\n",
    "from dateutil import parser\n",
    "from datetime import date\n"
   ]
  },
  {
   "cell_type": "code",
   "execution_count": 113,
   "metadata": {},
   "outputs": [],
   "source": [
    "class UrlDebentures:\n",
    "\n",
    "    def __init__(self):\n",
    "        self.root_url = 'https://www.debentures.com.br/exploreosnd/consultaadados/'\n",
    "\n",
    "\n",
    "class EmissoesDebentures:\n",
    "    def __init__(self, root_url):\n",
    "        self.root_url = f'{root_url}/emissoesdedebentures'\n",
    "\n",
    "    def lista_deb_publicas(self):\n",
    "        url = f'{self.root_url}/caracteristicas_r.asp?tip_deb=publicas&op_exc='\n",
    "        r = requests.get(url)\n",
    "        soup = BeautifulSoup(r.text)\n",
    "        table = soup.find('table', class_='Tab10333333')\n",
    "        # Check if the table exists\n",
    "        if table:\n",
    "            df = []\n",
    "            # Extract table rows\n",
    "            rows = table.find_all('tr')\n",
    "            # Loop through rows and extract data\n",
    "            for row in rows:\n",
    "                cells = row.find_all(['td', 'th'])  # handles both header and data cells\n",
    "                cell_texts = [cell.get_text(strip=True) for cell in cells]\n",
    "                df.append(cell_texts[1:-1])\n",
    "            df = pd.DataFrame(df, columns = ['Ativo', 'Emissor', 'Dump', 'Situacao'])\n",
    "            df = df.drop(columns=['Dump'])\n",
    "        else:\n",
    "            df = pd.DataFrame()\n",
    "            print(\"Table with class 'Tab10333333' not found.\")\n",
    "        return df\n",
    "    \n",
    "    def lista_caracteristicas(self, ativo):\n",
    "        url = f'{self.root_url}/caracteristicas_e.asp?Ativo={ativo}'\n",
    "        r = requests.get(url)\n",
    "        df = pd.read_csv(io.StringIO(r.text), sep='|', encoding='utf-8', names=['raw'], skiprows=2)\n",
    "        df = df[1:]['raw'].str.split('\\t', expand=True).reset_index(drop=True)\n",
    "        df = df.T.reset_index(drop=True)\n",
    "        df.columns = ['Descricao', 'Valores']\n",
    "        return df\n",
    "    \n",
    "    def _dt_fim_ini_fix(self, date_):\n",
    "        dt_par = parser.parse(date_)\n",
    "        return f'{dt_par.day:02d}%2F{dt_par.month:02d}%2F{dt_par.year}'\n",
    "\n",
    "    \n",
    "    def pu_historico(self, ativo, dt_inicio=None, dt_fim=None):\n",
    "        params = []\n",
    "        \n",
    "        if not dt_inicio:\n",
    "            dt_inicio= '20010101'\n",
    "        \n",
    "        if not dt_fim:\n",
    "            dt_fim = date.today().strftime('%Y%m%d')\n",
    "\n",
    "        \n",
    "        dt_inicio_fmt = self._dt_fim_ini_fix(dt_inicio)\n",
    "        params.append(f'dt_ini={dt_inicio_fmt}')\n",
    "        dt_fim_fmt = self._dt_fim_ini_fix(dt_fim)\n",
    "        params.append(f'dt_fim={dt_fim_fmt}')\n",
    "        \n",
    "        # Add conditional suffix if any date filters exist\n",
    "        add_suffix = '++++' if params else ''\n",
    "        \n",
    "        query_string = '&' + '&'.join(params) if params else ''\n",
    "        url = f'{self.root_url}/puhistorico_e.asp?op_exc=False&ativo={ativo}{add_suffix}{query_string}'\n",
    "        \n",
    "        response = requests.get(url)\n",
    "        df = pd.read_csv(io.StringIO(response.text), sep='|', encoding='utf-8', names=['raw'], skiprows=2)\n",
    "        df = df['raw'].str.split('\\t', expand=True).reset_index(drop=True)\n",
    "        df.columns = df.iloc[0]\n",
    "        df = df[1:].reset_index(drop=True)[:-2]\n",
    "        return df\n",
    "        \n",
    "    \n"
   ]
  },
  {
   "cell_type": "code",
   "execution_count": 114,
   "metadata": {},
   "outputs": [],
   "source": [
    "ed = EmissoesDebentures(UrlDebentures().root_url)\n",
    "#df = ed.lista_caracteristicas('AAJR11')"
   ]
  },
  {
   "cell_type": "code",
   "execution_count": 115,
   "metadata": {},
   "outputs": [],
   "source": [
    "df = ed.pu_historico('AAJR11', '20200101', '20250707')"
   ]
  }
 ],
 "metadata": {
  "kernelspec": {
   "display_name": ".venv",
   "language": "python",
   "name": "python3"
  },
  "language_info": {
   "codemirror_mode": {
    "name": "ipython",
    "version": 3
   },
   "file_extension": ".py",
   "mimetype": "text/x-python",
   "name": "python",
   "nbconvert_exporter": "python",
   "pygments_lexer": "ipython3",
   "version": "3.12.10"
  }
 },
 "nbformat": 4,
 "nbformat_minor": 2
}
