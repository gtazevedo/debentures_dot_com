{
 "cells": [
  {
   "cell_type": "code",
   "execution_count": null,
   "metadata": {},
   "outputs": [],
   "source": [
    "import requests\n",
    "import io\n",
    "import pandas as pd\n",
    "from bs4 import BeautifulSoup\n",
    "from dateutil import parser\n",
    "from datetime import date\n",
    "from __consulta_dados import UrlDebentures\n",
    "from emissoes import EmissoesDebentures\n",
    "from eventos_fin import EventosFinanceiros"
   ]
  },
  {
   "cell_type": "code",
   "execution_count": 2,
   "metadata": {},
   "outputs": [],
   "source": [
    "ed = EmissoesDebentures(UrlDebentures().root_url)\n"
   ]
  },
  {
   "cell_type": "code",
   "execution_count": null,
   "metadata": {},
   "outputs": [
    {
     "data": {
      "text/html": [
       "<div>\n",
       "<style scoped>\n",
       "    .dataframe tbody tr th:only-of-type {\n",
       "        vertical-align: middle;\n",
       "    }\n",
       "\n",
       "    .dataframe tbody tr th {\n",
       "        vertical-align: top;\n",
       "    }\n",
       "\n",
       "    .dataframe thead th {\n",
       "        text-align: right;\n",
       "    }\n",
       "</style>\n",
       "<table border=\"1\" class=\"dataframe\">\n",
       "  <thead>\n",
       "    <tr style=\"text-align: right;\">\n",
       "      <th></th>\n",
       "      <th>Código do Ativo</th>\n",
       "      <th>Nome da Empresa</th>\n",
       "      <th>Inicio (dd/mm/aaaa)</th>\n",
       "      <th>Fim (dd/mm/aaaa)</th>\n",
       "      <th>Classe</th>\n",
       "      <th>Paridade</th>\n",
       "      <th>Situação</th>\n",
       "      <th></th>\n",
       "    </tr>\n",
       "  </thead>\n",
       "  <tbody>\n",
       "    <tr>\n",
       "      <th>0</th>\n",
       "      <td>TCTB12</td>\n",
       "      <td>C.P.E PENINSULA DO TUCURUCUTUBA</td>\n",
       "      <td>01/11/2002</td>\n",
       "      <td>Indeterminada</td>\n",
       "      <td>-</td>\n",
       "      <td>Fração ideal do empreendimento</td>\n",
       "      <td>Registrado</td>\n",
       "      <td>None</td>\n",
       "    </tr>\n",
       "    <tr>\n",
       "      <th>1</th>\n",
       "      <td>TCTB22</td>\n",
       "      <td>C.P.E PENINSULA DO TUCURUCUTUBA</td>\n",
       "      <td>01/11/2002</td>\n",
       "      <td>Indeterminada</td>\n",
       "      <td>-</td>\n",
       "      <td>Fração ideal do empreendimento</td>\n",
       "      <td>Registrado</td>\n",
       "      <td>None</td>\n",
       "    </tr>\n",
       "    <tr>\n",
       "      <th>2</th>\n",
       "      <td>TCTB32</td>\n",
       "      <td>C.P.E PENINSULA DO TUCURUCUTUBA</td>\n",
       "      <td>01/11/2002</td>\n",
       "      <td>Indeterminada</td>\n",
       "      <td>-</td>\n",
       "      <td>Fração ideal do empreendimento</td>\n",
       "      <td>Registrado</td>\n",
       "      <td>None</td>\n",
       "    </tr>\n",
       "    <tr>\n",
       "      <th>3</th>\n",
       "      <td>TCTB42</td>\n",
       "      <td>C.P.E PENINSULA DO TUCURUCUTUBA</td>\n",
       "      <td>01/11/2002</td>\n",
       "      <td>Indeterminada</td>\n",
       "      <td>-</td>\n",
       "      <td>Fração ideal do empreendimento</td>\n",
       "      <td>Registrado</td>\n",
       "      <td>None</td>\n",
       "    </tr>\n",
       "    <tr>\n",
       "      <th>4</th>\n",
       "      <td>TCTB52</td>\n",
       "      <td>C.P.E PENINSULA DO TUCURUCUTUBA</td>\n",
       "      <td>01/11/2002</td>\n",
       "      <td>Indeterminada</td>\n",
       "      <td>-</td>\n",
       "      <td>Fração ideal do empreendimento</td>\n",
       "      <td>Registrado</td>\n",
       "      <td>None</td>\n",
       "    </tr>\n",
       "  </tbody>\n",
       "</table>\n",
       "</div>"
      ],
      "text/plain": [
       "0 Código do Ativo                  Nome da Empresa Inicio (dd/mm/aaaa)  \\\n",
       "0          TCTB12  C.P.E PENINSULA DO TUCURUCUTUBA          01/11/2002   \n",
       "1          TCTB22  C.P.E PENINSULA DO TUCURUCUTUBA          01/11/2002   \n",
       "2          TCTB32  C.P.E PENINSULA DO TUCURUCUTUBA          01/11/2002   \n",
       "3          TCTB42  C.P.E PENINSULA DO TUCURUCUTUBA          01/11/2002   \n",
       "4          TCTB52  C.P.E PENINSULA DO TUCURUCUTUBA          01/11/2002   \n",
       "\n",
       "0 Fim (dd/mm/aaaa) Classe                        Paridade    Situação        \n",
       "0    Indeterminada      -  Fração ideal do empreendimento  Registrado  None  \n",
       "1    Indeterminada      -  Fração ideal do empreendimento  Registrado  None  \n",
       "2    Indeterminada      -  Fração ideal do empreendimento  Registrado  None  \n",
       "3    Indeterminada      -  Fração ideal do empreendimento  Registrado  None  \n",
       "4    Indeterminada      -  Fração ideal do empreendimento  Registrado  None  "
      ]
     },
     "execution_count": 3,
     "metadata": {},
     "output_type": "execute_result"
    }
   ],
   "source": [
    "ef = EventosFinanceiros(UrlDebentures().root_url)"
   ]
  },
  {
   "cell_type": "markdown",
   "metadata": {},
   "source": [
    "### Eventos financeiros"
   ]
  },
  {
   "cell_type": "code",
   "execution_count": null,
   "metadata": {},
   "outputs": [],
   "source": [
    "## Agenda\n",
    "# Se cnpj tiver menos que x digitos preencher com 0 a esquerda\n",
    "https://www.debentures.com.br/exploreosnd/consultaadados/eventosfinanceiros/agenda_e.asp?emissor=08773135000100&ativo=&evento=&dt_ini=&dt_fim=&dt_pgto_ini=&dt_pgto_fim=&Submit32.x=32&Submit32.y=4"
   ]
  },
  {
   "cell_type": "code",
   "execution_count": null,
   "metadata": {},
   "outputs": [],
   "source": [
    "## PU Evento\n",
    "https://www.debentures.com.br/exploreosnd/consultaadados/eventosfinanceiros/pudeeventos_e.asp?op_exc=Nada&emissor=08773135000100&ativo=&dt_ini=&dt_fim=&evento=&Submit.x=29&Submit.y=13"
   ]
  },
  {
   "cell_type": "code",
   "execution_count": null,
   "metadata": {},
   "outputs": [],
   "source": [
    "### Arquivo Precos\n",
    "https://www.anbima.com.br/informacoes/merc-sec-debentures/arqs/db250714.txt #%y%m%d"
   ]
  },
  {
   "cell_type": "code",
   "execution_count": null,
   "metadata": {},
   "outputs": [],
   "source": [
    "# Vencidos antecipadamente\n",
    "https://www.anbima.com.br/informacoes/merc-sec-debentures/resultados/mdeb_14jul2025_vencidos_antecipadamente.asp"
   ]
  },
  {
   "cell_type": "code",
   "execution_count": null,
   "metadata": {},
   "outputs": [],
   "source": [
    "# IPCA Spread\n",
    "https://www.anbima.com.br/informacoes/merc-sec-debentures/resultados/mdeb_14jul2025_ipca_spread.asp"
   ]
  },
  {
   "cell_type": "code",
   "execution_count": null,
   "metadata": {},
   "outputs": [],
   "source": [
    "# IGPM\n",
    "https://www.anbima.com.br/informacoes/merc-sec-debentures/resultados/mdeb_14jul2025_igp-m.asp"
   ]
  },
  {
   "cell_type": "markdown",
   "metadata": {},
   "source": [
    "# DI Spread\n",
    "https://www.anbima.com.br/informacoes/merc-sec-debentures/resultados/mdeb_14jul2025_di_spread.asp"
   ]
  }
 ],
 "metadata": {
  "kernelspec": {
   "display_name": ".venv",
   "language": "python",
   "name": "python3"
  },
  "language_info": {
   "codemirror_mode": {
    "name": "ipython",
    "version": 3
   },
   "file_extension": ".py",
   "mimetype": "text/x-python",
   "name": "python",
   "nbconvert_exporter": "python",
   "pygments_lexer": "ipython3",
   "version": "3.12.10"
  }
 },
 "nbformat": 4,
 "nbformat_minor": 2
}
